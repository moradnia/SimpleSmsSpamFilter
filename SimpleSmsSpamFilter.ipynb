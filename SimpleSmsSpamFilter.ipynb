{
  "nbformat": 4,
  "nbformat_minor": 0,
  "metadata": {
    "colab": {
      "name": "SimpleSmsSpamFilter.ipynb",
      "provenance": [],
      "mount_file_id": "1qoSxge_k5qxKT_8NFSpyMwknXeMvklas",
      "authorship_tag": "ABX9TyP9AfR9hgoJ3Eh06yvgar+Z",
      "include_colab_link": true
    },
    "kernelspec": {
      "name": "python3",
      "display_name": "Python 3"
    }
  },
  "cells": [
    {
      "cell_type": "markdown",
      "metadata": {
        "id": "view-in-github",
        "colab_type": "text"
      },
      "source": [
        "<a href=\"https://colab.research.google.com/github/moradnia/SimpleSmsSpamFilter/blob/main/SimpleSmsSpamFilter.ipynb\" target=\"_parent\"><img src=\"https://colab.research.google.com/assets/colab-badge.svg\" alt=\"Open In Colab\"/></a>"
      ]
    },
    {
      "cell_type": "code",
      "metadata": {
        "id": "Ay9MPLwxJrSk"
      },
      "source": [
        "from google.colab import drive\r\n",
        "import pandas as pd"
      ],
      "execution_count": 2,
      "outputs": []
    },
    {
      "cell_type": "code",
      "metadata": {
        "colab": {
          "base_uri": "https://localhost:8080/",
          "height": 198
        },
        "id": "bpKMRtyMKSVv",
        "outputId": "c381e9ee-2fd7-4cc5-da36-6d375d84de20"
      },
      "source": [
        "file_url='/content/drive/MyDrive/SMSSpamCollection.txt'\r\n",
        "data = pd.read_csv(file_url, sep = '\\t', header=None, names=[\"label\", \"sms\"])\r\n",
        "data.head()\r\n"
      ],
      "execution_count": 3,
      "outputs": [
        {
          "output_type": "execute_result",
          "data": {
            "text/html": [
              "<div>\n",
              "<style scoped>\n",
              "    .dataframe tbody tr th:only-of-type {\n",
              "        vertical-align: middle;\n",
              "    }\n",
              "\n",
              "    .dataframe tbody tr th {\n",
              "        vertical-align: top;\n",
              "    }\n",
              "\n",
              "    .dataframe thead th {\n",
              "        text-align: right;\n",
              "    }\n",
              "</style>\n",
              "<table border=\"1\" class=\"dataframe\">\n",
              "  <thead>\n",
              "    <tr style=\"text-align: right;\">\n",
              "      <th></th>\n",
              "      <th>label</th>\n",
              "      <th>sms</th>\n",
              "    </tr>\n",
              "  </thead>\n",
              "  <tbody>\n",
              "    <tr>\n",
              "      <th>0</th>\n",
              "      <td>ham</td>\n",
              "      <td>Go until jurong point, crazy.. Available only ...</td>\n",
              "    </tr>\n",
              "    <tr>\n",
              "      <th>1</th>\n",
              "      <td>ham</td>\n",
              "      <td>Ok lar... Joking wif u oni...</td>\n",
              "    </tr>\n",
              "    <tr>\n",
              "      <th>2</th>\n",
              "      <td>spam</td>\n",
              "      <td>Free entry in 2 a wkly comp to win FA Cup fina...</td>\n",
              "    </tr>\n",
              "    <tr>\n",
              "      <th>3</th>\n",
              "      <td>ham</td>\n",
              "      <td>U dun say so early hor... U c already then say...</td>\n",
              "    </tr>\n",
              "    <tr>\n",
              "      <th>4</th>\n",
              "      <td>ham</td>\n",
              "      <td>Nah I don't think he goes to usf, he lives aro...</td>\n",
              "    </tr>\n",
              "  </tbody>\n",
              "</table>\n",
              "</div>"
            ],
            "text/plain": [
              "  label                                                sms\n",
              "0   ham  Go until jurong point, crazy.. Available only ...\n",
              "1   ham                      Ok lar... Joking wif u oni...\n",
              "2  spam  Free entry in 2 a wkly comp to win FA Cup fina...\n",
              "3   ham  U dun say so early hor... U c already then say...\n",
              "4   ham  Nah I don't think he goes to usf, he lives aro..."
            ]
          },
          "metadata": {
            "tags": []
          },
          "execution_count": 3
        }
      ]
    },
    {
      "cell_type": "markdown",
      "metadata": {
        "id": "MO-xDe5PKjTk"
      },
      "source": [
        "#  Pre-Processing"
      ]
    },
    {
      "cell_type": "code",
      "metadata": {
        "colab": {
          "base_uri": "https://localhost:8080/"
        },
        "id": "B-vOIx3OKm0p",
        "outputId": "1899ee2a-684d-4fc1-81c2-c1cdc46f3612"
      },
      "source": [
        "import string\r\n",
        "import nltk\r\n",
        "nltk.download('stopwords')\r\n",
        "nltk.download('punkt')\r\n",
        "\r\n",
        "stopwords = nltk.corpus.stopwords.words('english')\r\n",
        "punctuation = string.punctuation\r\n",
        "\r\n",
        "print(stopwords[:5])\r\n",
        "print(punctuation)"
      ],
      "execution_count": 4,
      "outputs": [
        {
          "output_type": "stream",
          "text": [
            "[nltk_data] Downloading package stopwords to /root/nltk_data...\n",
            "[nltk_data]   Unzipping corpora/stopwords.zip.\n",
            "[nltk_data] Downloading package punkt to /root/nltk_data...\n",
            "[nltk_data]   Unzipping tokenizers/punkt.zip.\n",
            "['i', 'me', 'my', 'myself', 'we']\n",
            "!\"#$%&'()*+,-./:;<=>?@[\\]^_`{|}~\n"
          ],
          "name": "stdout"
        }
      ]
    },
    {
      "cell_type": "code",
      "metadata": {
        "colab": {
          "base_uri": "https://localhost:8080/"
        },
        "id": "qO-xhlifKsLq",
        "outputId": "f65866f4-51b8-42e1-c87d-4414484ef163"
      },
      "source": [
        "def pre_process(sms):\r\n",
        "    remove_punct = \"\".join([word.lower() for word in sms if word not in punctuation])\r\n",
        "    tokenize = nltk.tokenize.word_tokenize(remove_punct)\r\n",
        "    remove_stopwords = [word for word in tokenize if word not in stopwords]\r\n",
        "    return remove_stopwords\r\n",
        "\r\n",
        "#adding a column to our data with our processed messages\r\n",
        "data['processed'] = data['sms'].apply(lambda x: pre_process(x))\r\n",
        "\r\n",
        "print(data['processed'].head())"
      ],
      "execution_count": 5,
      "outputs": [
        {
          "output_type": "stream",
          "text": [
            "0    [go, jurong, point, crazy, available, bugis, n...\n",
            "1                       [ok, lar, joking, wif, u, oni]\n",
            "2    [free, entry, 2, wkly, comp, win, fa, cup, fin...\n",
            "3        [u, dun, say, early, hor, u, c, already, say]\n",
            "4    [nah, dont, think, goes, usf, lives, around, t...\n",
            "Name: processed, dtype: object\n"
          ],
          "name": "stdout"
        }
      ]
    },
    {
      "cell_type": "markdown",
      "metadata": {
        "id": "FulUUnuJKyvK"
      },
      "source": [
        "# Categorizing and Counting Tokens"
      ]
    },
    {
      "cell_type": "code",
      "metadata": {
        "colab": {
          "base_uri": "https://localhost:8080/"
        },
        "id": "gjMUmXvQKz6Q",
        "outputId": "1ae7948c-92e1-47da-d6ae-1ebde5033ce3"
      },
      "source": [
        "def categorize_words():\r\n",
        "    spam_words = []\r\n",
        "    ham_words = []\r\n",
        "    #handling messages associated with spam\r\n",
        "    for sms in data['processed'][data['label'] == 'spam']:\r\n",
        "        for word in sms:\r\n",
        "            spam_words.append(word)\r\n",
        "    #handling messages associated with ham\r\n",
        "    for sms in data['processed'][data['label'] == 'ham']:\r\n",
        "        for word in sms:\r\n",
        "            ham_words.append(word)\r\n",
        "    return spam_words, ham_words\r\n",
        "\r\n",
        "spam_words, ham_words = categorize_words()\r\n",
        "\r\n",
        "print(spam_words[:5])\r\n",
        "print(ham_words[:5])"
      ],
      "execution_count": 6,
      "outputs": [
        {
          "output_type": "stream",
          "text": [
            "['free', 'entry', '2', 'wkly', 'comp']\n",
            "['go', 'jurong', 'point', 'crazy', 'available']\n"
          ],
          "name": "stdout"
        }
      ]
    },
    {
      "cell_type": "markdown",
      "metadata": {
        "id": "rJ3UvSctK8TF"
      },
      "source": [
        "# Predict Function"
      ]
    },
    {
      "cell_type": "code",
      "metadata": {
        "id": "cgVo4NMrK-KR"
      },
      "source": [
        "def predict(sms):\r\n",
        "    spam_counter = 0\r\n",
        "    ham_counter = 0\r\n",
        "    #count the occurances of each word in the sms string\r\n",
        "    for word in sms:\r\n",
        "        spam_counter += spam_words.count(word)\r\n",
        "        ham_counter += ham_words.count(word)\r\n",
        "    print('***RESULTS***')\r\n",
        "    #if the message is ham\r\n",
        "    if ham_counter > spam_counter:\r\n",
        "        accuracy = round((ham_counter / (ham_counter + spam_counter) * 100))\r\n",
        "        print('messege is not spam, with {}% certainty'.format(accuracy))\r\n",
        "    #if the message could be equally spam and ham\r\n",
        "    elif ham_counter == spam_counter:\r\n",
        "        print('message could be spam')\r\n",
        "    #if the message is spam\r\n",
        "    else:\r\n",
        "        accuracy = round((spam_counter / (ham_counter + spam_counter)* 100))\r\n",
        "        print('message is spam, with {}% certainty'.format(accuracy))"
      ],
      "execution_count": 7,
      "outputs": []
    },
    {
      "cell_type": "markdown",
      "metadata": {
        "id": "Rm92ncsyLEe-"
      },
      "source": [
        "# Collecting User Input & Results"
      ]
    },
    {
      "cell_type": "code",
      "metadata": {
        "colab": {
          "base_uri": "https://localhost:8080/"
        },
        "id": "ryrOXp-YLApz",
        "outputId": "eed1bf35-bc11-4d3c-edc4-34a4e49ec721"
      },
      "source": [
        "user_input = input(\"Please type a spam or ham message to check if our function predicts accurately\\n\")\r\n",
        "#pre-processing the input before prediction\r\n",
        "processed_input = pre_process(user_input)\r\n",
        "\r\n",
        "predict(processed_input)"
      ],
      "execution_count": 9,
      "outputs": [
        {
          "output_type": "stream",
          "text": [
            "Please type a spam or ham message to check if our function predicts accurately\n",
            "milad have important information for you, call 1-222-000-1111 now!\n",
            "***RESULTS***\n",
            "message is spam, with 60% certainty\n"
          ],
          "name": "stdout"
        }
      ]
    }
  ]
}